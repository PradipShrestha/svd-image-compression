{
 "cells": [
  {
   "cell_type": "markdown",
   "id": "9ceb7ed6",
   "metadata": {},
   "source": [
    "## Singluar Value Decomposition (SVD)\n",
    "SVD is a factorization of the matrix into three different matrices. \n",
    "\n",
    "* Low rank matrix approximation.\n",
    "* Data reduction.\n",
    "* Useful to factorize mxn matrix. Diagnolization, and QR decomposition works only for square matrix. \n",
    "* Usage in image compression, page ranking, PCA."
   ]
  },
  {
   "cell_type": "markdown",
   "id": "7d276bb0",
   "metadata": {},
   "source": [
    "## Mathematics\n",
    "Any matrix A can be represented as a product of rotation, scaling, and rotation.\n",
    "A = U Σ V<sup>T</sup>\n",
    "\n",
    "U = mxm orthogonal matrix\n",
    "\n",
    "Σ = mxn diagonal matrix\n",
    "\n",
    "V = nxn orthogonal matrix\n",
    "\n",
    "![SVD Methods](svd-method.png)\n"
   ]
  },
  {
   "cell_type": "code",
   "execution_count": null,
   "id": "cb86304f",
   "metadata": {},
   "outputs": [],
   "source": [
    "import matplotlib.pyplot as plt\n",
    "from matplotlib.image import imread\n",
    "import numpy as np\n",
    "import cv2"
   ]
  },
  {
   "cell_type": "code",
   "execution_count": null,
   "id": "ba6783d5",
   "metadata": {},
   "outputs": [],
   "source": []
  },
  {
   "cell_type": "code",
   "execution_count": null,
   "id": "cf8991c3",
   "metadata": {},
   "outputs": [],
   "source": [
    "file_name = 'data/mt-everest.jpg'\n",
    "img = imread(file_name)\n",
    "np_img = np.array(img)\n",
    "print(np_img.shape)\n",
    "np_img = cv2.cvtColor(np_img, cv2.COLOR_BGR2GRAY)\n",
    "plt.imsave('uncompressed.jpeg', np_img)\n",
    "plt.imshow(np_img, cmap='gray', vmin=0, vmax=255)\n",
    "np_img.shape\n"
   ]
  },
  {
   "cell_type": "code",
   "execution_count": null,
   "id": "891b2e77",
   "metadata": {
    "scrolled": false
   },
   "outputs": [],
   "source": [
    "U, S, VT = np.linalg.svd(np_img, full_matrices=False)\n",
    "S = np.diag(S)\n",
    "print(U.shape, S.shape, VT.shape)\n",
    "print(np.diagonal(S))"
   ]
  },
  {
   "cell_type": "code",
   "execution_count": null,
   "id": "bdb90792",
   "metadata": {},
   "outputs": [],
   "source": [
    "def svd_approximation(a_s = 1):\n",
    "    img_approx = U[:, :a_s] @ S[:a_s, :a_s] @ VT[:a_s, :]\n",
    "    plt.imshow(img_approx, cmap='gray', vmin=0, vmax=255)\n",
    "    compressed_file_name =  str(a_s) + '-compressed.jpeg'\n",
    "    plt.imsave(compressed_file_name, img_approx)"
   ]
  },
  {
   "cell_type": "code",
   "execution_count": null,
   "id": "8d2cfdda",
   "metadata": {
    "scrolled": false
   },
   "outputs": [],
   "source": [
    "svd_approximation(5)"
   ]
  },
  {
   "cell_type": "code",
   "execution_count": null,
   "id": "a4f6c9e2",
   "metadata": {},
   "outputs": [],
   "source": [
    "svd_approximation(10)"
   ]
  }
 ],
 "metadata": {
  "kernelspec": {
   "display_name": "Python 3 (ipykernel)",
   "language": "python",
   "name": "python3"
  },
  "language_info": {
   "codemirror_mode": {
    "name": "ipython",
    "version": 3
   },
   "file_extension": ".py",
   "mimetype": "text/x-python",
   "name": "python",
   "nbconvert_exporter": "python",
   "pygments_lexer": "ipython3",
   "version": "3.10.0"
  }
 },
 "nbformat": 4,
 "nbformat_minor": 5
}
